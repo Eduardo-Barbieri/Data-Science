{
 "cells": [
  {
   "cell_type": "markdown",
   "metadata": {},
   "source": [
    "# Exercício de ajuste linear:\n",
    "fonte dos dados: https://docs.ufpr.br/~niveam/ce071/lista1.pdf"
   ]
  },
  {
   "cell_type": "code",
   "execution_count": 1,
   "metadata": {},
   "outputs": [],
   "source": [
    "import pandas as pd\n",
    "import matplotlib.pyplot as plt\n",
    "import requests\n",
    "import io"
   ]
  },
  {
   "cell_type": "markdown",
   "metadata": {},
   "source": [
    "Acessando CSV direto do github"
   ]
  },
  {
   "cell_type": "code",
   "execution_count": 2,
   "metadata": {},
   "outputs": [],
   "source": [
    "url = \"https://raw.githubusercontent.com/Eduardo-Barbieri/Data-Science/main/LineReg.csv\"\n",
    "download = requests.get(url).content\n",
    "dados = pd.read_csv((io.StringIO(download.decode('utf-8'))),sep=';', encoding='ISO-8859-1',nrows=10)"
   ]
  },
  {
   "cell_type": "code",
   "execution_count": 3,
   "metadata": {},
   "outputs": [
    {
     "data": {
      "text/html": [
       "<div>\n",
       "<style scoped>\n",
       "    .dataframe tbody tr th:only-of-type {\n",
       "        vertical-align: middle;\n",
       "    }\n",
       "\n",
       "    .dataframe tbody tr th {\n",
       "        vertical-align: top;\n",
       "    }\n",
       "\n",
       "    .dataframe thead th {\n",
       "        text-align: right;\n",
       "    }\n",
       "</style>\n",
       "<table border=\"1\" class=\"dataframe\">\n",
       "  <thead>\n",
       "    <tr style=\"text-align: right;\">\n",
       "      <th></th>\n",
       "      <th>Peso</th>\n",
       "      <th>Velocidade</th>\n",
       "    </tr>\n",
       "  </thead>\n",
       "  <tbody>\n",
       "    <tr>\n",
       "      <th>0</th>\n",
       "      <td>720</td>\n",
       "      <td>257</td>\n",
       "    </tr>\n",
       "    <tr>\n",
       "      <th>1</th>\n",
       "      <td>730</td>\n",
       "      <td>269</td>\n",
       "    </tr>\n",
       "    <tr>\n",
       "      <th>2</th>\n",
       "      <td>740</td>\n",
       "      <td>275</td>\n",
       "    </tr>\n",
       "    <tr>\n",
       "      <th>3</th>\n",
       "      <td>750</td>\n",
       "      <td>278</td>\n",
       "    </tr>\n",
       "    <tr>\n",
       "      <th>4</th>\n",
       "      <td>760</td>\n",
       "      <td>281</td>\n",
       "    </tr>\n",
       "  </tbody>\n",
       "</table>\n",
       "</div>"
      ],
      "text/plain": [
       "   Peso  Velocidade\n",
       "0   720         257\n",
       "1   730         269\n",
       "2   740         275\n",
       "3   750         278\n",
       "4   760         281"
      ]
     },
     "execution_count": 3,
     "metadata": {},
     "output_type": "execute_result"
    }
   ],
   "source": [
    "dados.head()"
   ]
  },
  {
   "cell_type": "markdown",
   "metadata": {},
   "source": [
    "# Algoritmo de regressão linear:\n",
    "obs: genérico sem ultilizar bibliotecas, pode ser aplicado em qualquer situação de python."
   ]
  },
  {
   "cell_type": "code",
   "execution_count": 4,
   "metadata": {},
   "outputs": [],
   "source": [
    "class Dataset: #definição do dataset, mantém o conjunto inicial inalterado; \n",
    "\n",
    "    def __init__(self): \n",
    "        self.pts = []\n",
    "\n",
    "    def add_pontos(self,x,y):\n",
    "        self.pts.append([x,y]) #Pega pontos;\n",
    "\n",
    "class Reta(Dataset):\n",
    "\n",
    "    def __init__(self): \n",
    "        Dataset.__init__(self) #Criando a classe pai;\n",
    "        self.xmed = float #Media da coordenada x dos pontos;\n",
    "        self.ymed = float #Media da coordenda y dos pontos;\n",
    "        self.a = float    #Coeficiente angular;\n",
    "        self.b = float    #Coeficiente linear;\n",
    "        self.Sxx = float  #Soma dos quadrados da diferença em x;\n",
    "        self.Sxy = float  #Soma dos quadrados da diferença em x e y;\n",
    "        self.Syy = float  #Soma dos quadrados da diferença em y;\n",
    "\n",
    "    def set_ajuste(self): #Regressão linear propriamente dita ;      \n",
    "        #pontos medios;\n",
    "        xmed = 0\n",
    "        ymed = 0\n",
    "\n",
    "        for j in range(0,len(self.pts)):\n",
    "           \n",
    "            xmed = self.pts[j][0] + xmed #chamando os valores de x;\n",
    "            ymed = self.pts[j][1] + ymed #Chamando os valores de y;\n",
    "        \n",
    "        self.xmed = xmed/len(self.pts) #media em X\n",
    "        self.ymed = ymed/len(self.pts) #Media em Y\n",
    "\n",
    "        #Quadrados das diferenças;\n",
    "        Sxx = 0\n",
    "        Sxy = 0\n",
    "        Syy = 0\n",
    "\n",
    "        n = len(self.pts)\n",
    "        for j in range(0,len(self.pts)):\n",
    "            \n",
    "            Sxx = (self.pts[j][0])**2 - n*(self.xmed**2) + Sxx #Equação do quadrado da diferença em x\n",
    "            Sxy = (self.pts[j][1]*self.pts[j][0] - n*(self.xmed*self.ymed)) + Sxy #Equação do quadrado da diferença em x e y\n",
    "            Syy = (self.pts[j][1])**2 - n*(self.ymed**2) + Syy #Equação do quadrado da diferença em y\n",
    "        \n",
    "        self.Sxx = Sxx\n",
    "        self.Sxy = Sxy\n",
    "        self.Syy = Syy\n",
    "\n",
    "        #lei da reta\n",
    "        self.a=(Sxy)/(Sxx) \n",
    "        self.b =self.ymed - (self.a*self.xmed)\n",
    "\n",
    "\n",
    "def Linear_regression(x,y):\n",
    "   \n",
    "    z = len(x)\n",
    "    A = Reta()\n",
    "    \n",
    "    for p in range(0,z): #Setar os pontos a partir do DataFrame, não tem necessidade de ser em panda.\n",
    "        X = x[p] \n",
    "        Y = y[p]\n",
    "\n",
    "        A.add_pontos(X,Y)\n",
    "\n",
    "    A.set_ajuste()\n",
    "    return(A)"
   ]
  },
  {
   "cell_type": "code",
   "execution_count": 5,
   "metadata": {},
   "outputs": [],
   "source": [
    "Reta_ajusted = Linear_regression(dados['Peso'],dados['Velocidade'])"
   ]
  },
  {
   "cell_type": "code",
   "execution_count": 6,
   "metadata": {},
   "outputs": [],
   "source": [
    "df = pd.DataFrame(columns=[])\n",
    "\n",
    "for x in range (720,800,10): #Gerando o DataSet da reta ajustada.\n",
    "    fgen = Reta_ajusted.a*x + Reta_ajusted.b\n",
    "    df = df.append({'X': x,'Y':fgen},ignore_index=True)"
   ]
  },
  {
   "cell_type": "markdown",
   "metadata": {},
   "source": [
    "# Configurações dos plots (gráficos):"
   ]
  },
  {
   "cell_type": "code",
   "execution_count": 7,
   "metadata": {
    "scrolled": true
   },
   "outputs": [
    {
     "data": {
      "text/plain": [
       "<matplotlib.legend.Legend at 0xa713d18>"
      ]
     },
     "execution_count": 7,
     "metadata": {},
     "output_type": "execute_result"
    },
    {
     "data": {
      "image/png": "[encoded data removed]",
      "text/plain": [
       "<Figure size 432x288 with 1 Axes>"
      ]
     },
     "metadata": {
      "needs_background": "light"
     },
     "output_type": "display_data"
    }
   ],
   "source": [
    "fig1, f1_axes = plt.subplots() #Definido a figura;\n",
    "\n",
    "#Definindo os eixos:\n",
    "f1_axes.set_title(\"Reta ajustada: Peso X Vleociade\")\n",
    "f1_axes.set_xlabel('Peso (Kg)')\n",
    "f1_axes.set_ylabel('Velociade (Km/H)')\n",
    "\n",
    "#Definindo os plots:\n",
    "f1_axes.plot(df['X'],df['Y'], label=f'y = {Reta_ajusted.a}x + {Reta_ajusted.b}', color='red')\n",
    "f1_axes.scatter(dados['Peso'],dados['Velocidade'], label='pontos originais')\n",
    "f1_axes.legend()"
   ]
  }
 ],
 "metadata": {
  "kernelspec": {
   "display_name": "Python 3",
   "language": "python",
   "name": "python3"
  },
  "language_info": {
   "codemirror_mode": {
    "name": "ipython",
    "version": 3
   },
   "file_extension": ".py",
   "mimetype": "text/x-python",
   "name": "python",
   "nbconvert_exporter": "python",
   "pygments_lexer": "ipython3",
   "version": "3.8.2"
  }
 },
 "nbformat": 4,
 "nbformat_minor": 4
}
